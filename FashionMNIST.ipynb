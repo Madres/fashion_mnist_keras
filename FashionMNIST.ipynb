{
 "cells": [
  {
   "cell_type": "markdown",
   "metadata": {},
   "source": [
    "## Fashion MNIST Classification\n",
    "Building Multilayer Perceptron using Keras\n",
    "\n",
    "\n",
    "### About Keras\n",
    "- Keras Open Source, high level neural networks API\n",
    "- Built on Top of Tensorflow\n",
    "- Good for Rapid Prototyping & Experimentation\n",
    "- Supports both CPU and GPU\n",
    "\n",
    "### Two types of Keras API's\n",
    "- Functional API\n",
    "- Sequential API\n",
    "\n",
    "We will go through the Sequential API in this example!\n",
    "\n",
    "### Learning Goals\n",
    "- Learn about Fashion MNIST Dataset\n",
    "- Learn to rapidly build and train model using Keras\n",
    "\n",
    "\n"
   ]
  },
  {
   "cell_type": "markdown",
   "metadata": {},
   "source": [
    "### Steps\n",
    "1. Load and Visualise the Dataset\n",
    "2. Build a Sequential Model (MLP)\n",
    "3. Training & Tuning Hyperparameters\n",
    "4. Evaluating Results"
   ]
  },
  {
   "cell_type": "markdown",
   "metadata": {},
   "source": [
    "### Loading Data"
   ]
  },
  {
   "cell_type": "code",
   "execution_count": 38,
   "metadata": {},
   "outputs": [],
   "source": [
    "import pandas as pd\n",
    "import numpy as np\n",
    "import matplotlib.pyplot as plt\n",
    "from keras.utils import np_utils"
   ]
  },
  {
   "cell_type": "code",
   "execution_count": 39,
   "metadata": {},
   "outputs": [
    {
     "data": {
      "text/html": [
       "<div>\n",
       "<style scoped>\n",
       "    .dataframe tbody tr th:only-of-type {\n",
       "        vertical-align: middle;\n",
       "    }\n",
       "\n",
       "    .dataframe tbody tr th {\n",
       "        vertical-align: top;\n",
       "    }\n",
       "\n",
       "    .dataframe thead th {\n",
       "        text-align: right;\n",
       "    }\n",
       "</style>\n",
       "<table border=\"1\" class=\"dataframe\">\n",
       "  <thead>\n",
       "    <tr style=\"text-align: right;\">\n",
       "      <th></th>\n",
       "      <th>label</th>\n",
       "      <th>pixel1</th>\n",
       "      <th>pixel2</th>\n",
       "      <th>pixel3</th>\n",
       "      <th>pixel4</th>\n",
       "      <th>pixel5</th>\n",
       "      <th>pixel6</th>\n",
       "      <th>pixel7</th>\n",
       "      <th>pixel8</th>\n",
       "      <th>pixel9</th>\n",
       "      <th>...</th>\n",
       "      <th>pixel775</th>\n",
       "      <th>pixel776</th>\n",
       "      <th>pixel777</th>\n",
       "      <th>pixel778</th>\n",
       "      <th>pixel779</th>\n",
       "      <th>pixel780</th>\n",
       "      <th>pixel781</th>\n",
       "      <th>pixel782</th>\n",
       "      <th>pixel783</th>\n",
       "      <th>pixel784</th>\n",
       "    </tr>\n",
       "  </thead>\n",
       "  <tbody>\n",
       "    <tr>\n",
       "      <th>0</th>\n",
       "      <td>0</td>\n",
       "      <td>0</td>\n",
       "      <td>0</td>\n",
       "      <td>0</td>\n",
       "      <td>0</td>\n",
       "      <td>0</td>\n",
       "      <td>0</td>\n",
       "      <td>0</td>\n",
       "      <td>9</td>\n",
       "      <td>8</td>\n",
       "      <td>...</td>\n",
       "      <td>103</td>\n",
       "      <td>87</td>\n",
       "      <td>56</td>\n",
       "      <td>0</td>\n",
       "      <td>0</td>\n",
       "      <td>0</td>\n",
       "      <td>0</td>\n",
       "      <td>0</td>\n",
       "      <td>0</td>\n",
       "      <td>0</td>\n",
       "    </tr>\n",
       "    <tr>\n",
       "      <th>1</th>\n",
       "      <td>1</td>\n",
       "      <td>0</td>\n",
       "      <td>0</td>\n",
       "      <td>0</td>\n",
       "      <td>0</td>\n",
       "      <td>0</td>\n",
       "      <td>0</td>\n",
       "      <td>0</td>\n",
       "      <td>0</td>\n",
       "      <td>0</td>\n",
       "      <td>...</td>\n",
       "      <td>34</td>\n",
       "      <td>0</td>\n",
       "      <td>0</td>\n",
       "      <td>0</td>\n",
       "      <td>0</td>\n",
       "      <td>0</td>\n",
       "      <td>0</td>\n",
       "      <td>0</td>\n",
       "      <td>0</td>\n",
       "      <td>0</td>\n",
       "    </tr>\n",
       "    <tr>\n",
       "      <th>2</th>\n",
       "      <td>2</td>\n",
       "      <td>0</td>\n",
       "      <td>0</td>\n",
       "      <td>0</td>\n",
       "      <td>0</td>\n",
       "      <td>0</td>\n",
       "      <td>0</td>\n",
       "      <td>14</td>\n",
       "      <td>53</td>\n",
       "      <td>99</td>\n",
       "      <td>...</td>\n",
       "      <td>0</td>\n",
       "      <td>0</td>\n",
       "      <td>0</td>\n",
       "      <td>0</td>\n",
       "      <td>63</td>\n",
       "      <td>53</td>\n",
       "      <td>31</td>\n",
       "      <td>0</td>\n",
       "      <td>0</td>\n",
       "      <td>0</td>\n",
       "    </tr>\n",
       "    <tr>\n",
       "      <th>3</th>\n",
       "      <td>2</td>\n",
       "      <td>0</td>\n",
       "      <td>0</td>\n",
       "      <td>0</td>\n",
       "      <td>0</td>\n",
       "      <td>0</td>\n",
       "      <td>0</td>\n",
       "      <td>0</td>\n",
       "      <td>0</td>\n",
       "      <td>0</td>\n",
       "      <td>...</td>\n",
       "      <td>137</td>\n",
       "      <td>126</td>\n",
       "      <td>140</td>\n",
       "      <td>0</td>\n",
       "      <td>133</td>\n",
       "      <td>224</td>\n",
       "      <td>222</td>\n",
       "      <td>56</td>\n",
       "      <td>0</td>\n",
       "      <td>0</td>\n",
       "    </tr>\n",
       "    <tr>\n",
       "      <th>4</th>\n",
       "      <td>3</td>\n",
       "      <td>0</td>\n",
       "      <td>0</td>\n",
       "      <td>0</td>\n",
       "      <td>0</td>\n",
       "      <td>0</td>\n",
       "      <td>0</td>\n",
       "      <td>0</td>\n",
       "      <td>0</td>\n",
       "      <td>0</td>\n",
       "      <td>...</td>\n",
       "      <td>0</td>\n",
       "      <td>0</td>\n",
       "      <td>0</td>\n",
       "      <td>0</td>\n",
       "      <td>0</td>\n",
       "      <td>0</td>\n",
       "      <td>0</td>\n",
       "      <td>0</td>\n",
       "      <td>0</td>\n",
       "      <td>0</td>\n",
       "    </tr>\n",
       "  </tbody>\n",
       "</table>\n",
       "<p>5 rows × 785 columns</p>\n",
       "</div>"
      ],
      "text/plain": [
       "   label  pixel1  pixel2  pixel3  pixel4  pixel5  pixel6  pixel7  pixel8  \\\n",
       "0      0       0       0       0       0       0       0       0       9   \n",
       "1      1       0       0       0       0       0       0       0       0   \n",
       "2      2       0       0       0       0       0       0      14      53   \n",
       "3      2       0       0       0       0       0       0       0       0   \n",
       "4      3       0       0       0       0       0       0       0       0   \n",
       "\n",
       "   pixel9    ...     pixel775  pixel776  pixel777  pixel778  pixel779  \\\n",
       "0       8    ...          103        87        56         0         0   \n",
       "1       0    ...           34         0         0         0         0   \n",
       "2      99    ...            0         0         0         0        63   \n",
       "3       0    ...          137       126       140         0       133   \n",
       "4       0    ...            0         0         0         0         0   \n",
       "\n",
       "   pixel780  pixel781  pixel782  pixel783  pixel784  \n",
       "0         0         0         0         0         0  \n",
       "1         0         0         0         0         0  \n",
       "2        53        31         0         0         0  \n",
       "3       224       222        56         0         0  \n",
       "4         0         0         0         0         0  \n",
       "\n",
       "[5 rows x 785 columns]"
      ]
     },
     "execution_count": 39,
     "metadata": {},
     "output_type": "execute_result"
    }
   ],
   "source": [
    "X = pd.read_csv(\"./Dataset/fashion-mnist_test.csv\")\n",
    "X.head(n=5)"
   ]
  },
  {
   "cell_type": "code",
   "execution_count": 40,
   "metadata": {},
   "outputs": [
    {
     "name": "stdout",
     "output_type": "stream",
     "text": [
      "(10000, 784)\n",
      "(10000,)\n",
      "(10000, 10)\n"
     ]
    }
   ],
   "source": [
    "X_ = np.array(X)\n",
    "\n",
    "X = X_[:,1:]\n",
    "X = X/255.0\n",
    "\n",
    "Y = X_[:,0]\n",
    "\n",
    "print(X.shape)\n",
    "print(Y.shape)\n",
    "\n",
    "Y = np_utils.to_categorical(Y)\n",
    "print(Y.shape)"
   ]
  },
  {
   "cell_type": "code",
   "execution_count": 41,
   "metadata": {},
   "outputs": [
    {
     "data": {
      "image/png": "[encoded data removed]",
      "text/plain": [
       "<Figure size 432x288 with 1 Axes>"
      ]
     },
     "metadata": {
      "needs_background": "light"
     },
     "output_type": "display_data"
    },
    {
     "data": {
      "image/png": "[encoded data removed]",
      "text/plain": [
       "<Figure size 432x288 with 1 Axes>"
      ]
     },
     "metadata": {
      "needs_background": "light"
     },
     "output_type": "display_data"
    },
    {
     "data": {
      "image/png": "[encoded data removed]",
      "text/plain": [
       "<Figure size 432x288 with 1 Axes>"
      ]
     },
     "metadata": {
      "needs_background": "light"
     },
     "output_type": "display_data"
    },
    {
     "data": {
      "image/png": "[encoded data removed]",
      "text/plain": [
       "<Figure size 432x288 with 1 Axes>"
      ]
     },
     "metadata": {
      "needs_background": "light"
     },
     "output_type": "display_data"
    },
    {
     "data": {
      "image/png": "[encoded data removed]",
      "text/plain": [
       "<Figure size 432x288 with 1 Axes>"
      ]
     },
     "metadata": {
      "needs_background": "light"
     },
     "output_type": "display_data"
    },
    {
     "data": {
      "image/png": "[encoded data removed]",
      "text/plain": [
       "<Figure size 432x288 with 1 Axes>"
      ]
     },
     "metadata": {
      "needs_background": "light"
     },
     "output_type": "display_data"
    },
    {
     "data": {
      "image/png": "[encoded data removed]",
      "text/plain": [
       "<Figure size 432x288 with 1 Axes>"
      ]
     },
     "metadata": {
      "needs_background": "light"
     },
     "output_type": "display_data"
    },
    {
     "data": {
      "image/png": "[encoded data removed]",
      "text/plain": [
       "<Figure size 432x288 with 1 Axes>"
      ]
     },
     "metadata": {
      "needs_background": "light"
     },
     "output_type": "display_data"
    },
    {
     "data": {
      "image/png": "[encoded data removed]",
      "text/plain": [
       "<Figure size 432x288 with 1 Axes>"
      ]
     },
     "metadata": {
      "needs_background": "light"
     },
     "output_type": "display_data"
    },
    {
     "data": {
      "image/png": "[encoded data removed]",
      "text/plain": [
       "<Figure size 432x288 with 1 Axes>"
      ]
     },
     "metadata": {
      "needs_background": "light"
     },
     "output_type": "display_data"
    }
   ],
   "source": [
    "def visualise(X):\n",
    "    for i in range(10):\n",
    "        img = np.array(X[i])\n",
    "        plt.imshow(img.reshape((28,28)),cmap='gray')\n",
    "        plt.axis(\"off\")\n",
    "        plt.show()\n",
    "visualise(X)\n",
    "\n",
    "        "
   ]
  },
  {
   "cell_type": "markdown",
   "metadata": {},
   "source": [
    "### Training and Validation Set"
   ]
  },
  {
   "cell_type": "code",
   "execution_count": 42,
   "metadata": {},
   "outputs": [
    {
     "name": "stdout",
     "output_type": "stream",
     "text": [
      "(8000, 784) (8000, 10) (2000, 784) (2000, 10)\n"
     ]
    }
   ],
   "source": [
    "X_train = X[:8000,:]\n",
    "Y_train = Y[:8000]\n",
    "\n",
    "X_val = X[8000:,:]\n",
    "Y_val = Y[8000:]\n",
    "\n",
    "print(X_train.shape,Y_train.shape,X_val.shape,Y_val.shape)\n"
   ]
  },
  {
   "cell_type": "markdown",
   "metadata": {},
   "source": [
    "### One_Hot Represetation"
   ]
  },
  {
   "cell_type": "markdown",
   "metadata": {},
   "source": [
    "### Feed this data into a Multilayer Perceptron"
   ]
  },
  {
   "cell_type": "code",
   "execution_count": 27,
   "metadata": {},
   "outputs": [
    {
     "name": "stderr",
     "output_type": "stream",
     "text": [
      "Using TensorFlow backend.\n"
     ]
    }
   ],
   "source": [
    "import tensorflow\n",
    "from keras.models import Sequential\n",
    "from keras.layers import Dense,Activation"
   ]
  },
  {
   "cell_type": "code",
   "execution_count": null,
   "metadata": {},
   "outputs": [],
   "source": []
  },
  {
   "cell_type": "code",
   "execution_count": null,
   "metadata": {},
   "outputs": [],
   "source": []
  },
  {
   "cell_type": "code",
   "execution_count": 48,
   "metadata": {},
   "outputs": [
    {
     "name": "stdout",
     "output_type": "stream",
     "text": [
      "_________________________________________________________________\n",
      "Layer (type)                 Output Shape              Param #   \n",
      "=================================================================\n",
      "dense_5 (Dense)              (None, 256)               200960    \n",
      "_________________________________________________________________\n",
      "activation_3 (Activation)    (None, 256)               0         \n",
      "_________________________________________________________________\n",
      "dense_6 (Dense)              (None, 64)                16448     \n",
      "_________________________________________________________________\n",
      "activation_4 (Activation)    (None, 64)                0         \n",
      "_________________________________________________________________\n",
      "dense_7 (Dense)              (None, 10)                650       \n",
      "_________________________________________________________________\n",
      "activation_5 (Activation)    (None, 10)                0         \n",
      "=================================================================\n",
      "Total params: 218,058\n",
      "Trainable params: 218,058\n",
      "Non-trainable params: 0\n",
      "_________________________________________________________________\n"
     ]
    }
   ],
   "source": [
    "model = Sequential()\n",
    "model.add(Dense(256,input_shape=(784,)))\n",
    "model.add(Activation('relu'))\n",
    "model.add(Dense(64))\n",
    "model.add(Activation('relu'))\n",
    "\n",
    "model.add(Dense(10))\n",
    "model.add(Activation('softmax'))\n",
    "model.summary()\n"
   ]
  },
  {
   "cell_type": "code",
   "execution_count": 49,
   "metadata": {},
   "outputs": [],
   "source": [
    "model.compile(optimizer='sgd',loss='categorical_crossentropy',metrics=['accuracy'])"
   ]
  },
  {
   "cell_type": "code",
   "execution_count": 50,
   "metadata": {},
   "outputs": [
    {
     "name": "stdout",
     "output_type": "stream",
     "text": [
      "Train on 8000 samples, validate on 2000 samples\n",
      "Epoch 1/50\n",
      " - 2s - loss: 2.1065 - acc: 0.2954 - val_loss: 1.8595 - val_acc: 0.4960\n",
      "Epoch 2/50\n",
      " - 1s - loss: 1.6826 - acc: 0.5670 - val_loss: 1.5393 - val_acc: 0.5955\n",
      "Epoch 3/50\n",
      " - 1s - loss: 1.4070 - acc: 0.6444 - val_loss: 1.3049 - val_acc: 0.6405\n",
      "Epoch 4/50\n",
      " - 1s - loss: 1.2124 - acc: 0.6695 - val_loss: 1.1478 - val_acc: 0.6650\n",
      "Epoch 5/50\n",
      " - 1s - loss: 1.0811 - acc: 0.6827 - val_loss: 1.0341 - val_acc: 0.6725\n",
      "Epoch 6/50\n",
      " - 1s - loss: 0.9900 - acc: 0.6960 - val_loss: 0.9586 - val_acc: 0.6835\n",
      "Epoch 7/50\n",
      " - 1s - loss: 0.9243 - acc: 0.7084 - val_loss: 0.8997 - val_acc: 0.6925\n",
      "Epoch 8/50\n",
      " - 1s - loss: 0.8749 - acc: 0.7210 - val_loss: 0.8559 - val_acc: 0.7040\n",
      "Epoch 9/50\n",
      " - 1s - loss: 0.8357 - acc: 0.7313 - val_loss: 0.8171 - val_acc: 0.7250\n",
      "Epoch 10/50\n",
      " - 1s - loss: 0.8032 - acc: 0.7375 - val_loss: 0.7922 - val_acc: 0.7375\n",
      "Epoch 11/50\n",
      " - 1s - loss: 0.7772 - acc: 0.7484 - val_loss: 0.7859 - val_acc: 0.7420\n",
      "Epoch 12/50\n",
      " - 1s - loss: 0.7550 - acc: 0.7556 - val_loss: 0.7459 - val_acc: 0.7480\n",
      "Epoch 13/50\n",
      " - 1s - loss: 0.7354 - acc: 0.7624 - val_loss: 0.7252 - val_acc: 0.7560\n",
      "Epoch 14/50\n",
      " - 1s - loss: 0.7170 - acc: 0.7674 - val_loss: 0.7050 - val_acc: 0.7665\n",
      "Epoch 15/50\n",
      " - 1s - loss: 0.6998 - acc: 0.7749 - val_loss: 0.7046 - val_acc: 0.7645\n",
      "Epoch 16/50\n",
      " - 1s - loss: 0.6876 - acc: 0.7807 - val_loss: 0.6755 - val_acc: 0.7740\n",
      "Epoch 17/50\n",
      " - 1s - loss: 0.6739 - acc: 0.7827 - val_loss: 0.6670 - val_acc: 0.7760\n",
      "Epoch 18/50\n",
      " - 1s - loss: 0.6609 - acc: 0.7861 - val_loss: 0.6578 - val_acc: 0.7785\n",
      "Epoch 19/50\n",
      " - 1s - loss: 0.6511 - acc: 0.7893 - val_loss: 0.6540 - val_acc: 0.7855\n",
      "Epoch 20/50\n",
      " - 1s - loss: 0.6414 - acc: 0.7919 - val_loss: 0.6365 - val_acc: 0.7890\n",
      "Epoch 21/50\n",
      " - 1s - loss: 0.6312 - acc: 0.7974 - val_loss: 0.6178 - val_acc: 0.7965\n",
      "Epoch 22/50\n",
      " - 1s - loss: 0.6214 - acc: 0.8000 - val_loss: 0.6124 - val_acc: 0.7950\n",
      "Epoch 23/50\n",
      " - 1s - loss: 0.6143 - acc: 0.8021 - val_loss: 0.6054 - val_acc: 0.8035\n",
      "Epoch 24/50\n",
      " - 1s - loss: 0.6055 - acc: 0.8061 - val_loss: 0.6070 - val_acc: 0.7915\n",
      "Epoch 25/50\n",
      " - 1s - loss: 0.6005 - acc: 0.8071 - val_loss: 0.5972 - val_acc: 0.8025\n",
      "Epoch 26/50\n",
      " - 1s - loss: 0.5921 - acc: 0.8129 - val_loss: 0.5968 - val_acc: 0.8015\n",
      "Epoch 27/50\n",
      " - 1s - loss: 0.5849 - acc: 0.8114 - val_loss: 0.5818 - val_acc: 0.8050\n",
      "Epoch 28/50\n",
      " - 1s - loss: 0.5791 - acc: 0.8145 - val_loss: 0.5770 - val_acc: 0.8085\n",
      "Epoch 29/50\n",
      " - 1s - loss: 0.5743 - acc: 0.8156 - val_loss: 0.5647 - val_acc: 0.8145\n",
      "Epoch 30/50\n",
      " - 1s - loss: 0.5680 - acc: 0.8189 - val_loss: 0.5764 - val_acc: 0.8120\n",
      "Epoch 31/50\n",
      " - 1s - loss: 0.5633 - acc: 0.8220 - val_loss: 0.5626 - val_acc: 0.8225\n",
      "Epoch 32/50\n",
      " - 1s - loss: 0.5572 - acc: 0.8226 - val_loss: 0.5887 - val_acc: 0.8030\n",
      "Epoch 33/50\n",
      " - 1s - loss: 0.5550 - acc: 0.8211 - val_loss: 0.5754 - val_acc: 0.8080\n",
      "Epoch 34/50\n",
      " - 1s - loss: 0.5496 - acc: 0.8249 - val_loss: 0.5504 - val_acc: 0.8155\n",
      "Epoch 35/50\n",
      " - 1s - loss: 0.5439 - acc: 0.8233 - val_loss: 0.5361 - val_acc: 0.8280\n",
      "Epoch 36/50\n",
      " - 1s - loss: 0.5392 - acc: 0.8256 - val_loss: 0.5358 - val_acc: 0.8200\n",
      "Epoch 37/50\n",
      " - 1s - loss: 0.5365 - acc: 0.8277 - val_loss: 0.5442 - val_acc: 0.8195\n",
      "Epoch 38/50\n",
      " - 1s - loss: 0.5310 - acc: 0.8301 - val_loss: 0.5278 - val_acc: 0.8250\n",
      "Epoch 39/50\n",
      " - 1s - loss: 0.5269 - acc: 0.8294 - val_loss: 0.5404 - val_acc: 0.8190\n",
      "Epoch 40/50\n",
      " - 1s - loss: 0.5246 - acc: 0.8309 - val_loss: 0.5269 - val_acc: 0.8240\n",
      "Epoch 41/50\n",
      " - 1s - loss: 0.5220 - acc: 0.8297 - val_loss: 0.5193 - val_acc: 0.8265\n",
      "Epoch 42/50\n",
      " - 1s - loss: 0.5173 - acc: 0.8344 - val_loss: 0.5162 - val_acc: 0.8280\n",
      "Epoch 43/50\n",
      " - 1s - loss: 0.5133 - acc: 0.8346 - val_loss: 0.5348 - val_acc: 0.8145\n",
      "Epoch 44/50\n",
      " - 1s - loss: 0.5114 - acc: 0.8342 - val_loss: 0.5088 - val_acc: 0.8275\n",
      "Epoch 45/50\n",
      " - 1s - loss: 0.5084 - acc: 0.8355 - val_loss: 0.5109 - val_acc: 0.8325\n",
      "Epoch 46/50\n",
      " - 1s - loss: 0.5033 - acc: 0.8365 - val_loss: 0.5016 - val_acc: 0.8340\n",
      "Epoch 47/50\n",
      " - 1s - loss: 0.5006 - acc: 0.8361 - val_loss: 0.5098 - val_acc: 0.8270\n",
      "Epoch 48/50\n",
      " - 1s - loss: 0.4997 - acc: 0.8366 - val_loss: 0.5254 - val_acc: 0.8255\n",
      "Epoch 49/50\n",
      " - 1s - loss: 0.4970 - acc: 0.8391 - val_loss: 0.5028 - val_acc: 0.8300\n",
      "Epoch 50/50\n",
      " - 1s - loss: 0.4929 - acc: 0.8386 - val_loss: 0.5024 - val_acc: 0.8250\n"
     ]
    }
   ],
   "source": [
    "hist = model.fit(X_train,Y_train,batch_size=256,epochs=50,verbose=2,validation_data=(X_val,Y_val))"
   ]
  },
  {
   "cell_type": "code",
   "execution_count": 57,
   "metadata": {},
   "outputs": [
    {
     "data": {
      "text/plain": [
       "array([0, 1, 2, 0, 4, 0, 8, 6, 5, 0], dtype=int64)"
      ]
     },
     "execution_count": 57,
     "metadata": {},
     "output_type": "execute_result"
    }
   ],
   "source": [
    "np.argmax(model.predict(X[:10]),axis=1)"
   ]
  },
  {
   "cell_type": "markdown",
   "metadata": {},
   "source": [
    "## Visualise Loss"
   ]
  },
  {
   "cell_type": "code",
   "execution_count": 63,
   "metadata": {},
   "outputs": [
    {
     "data": {
      "image/png": "[encoded data removed]",
      "text/plain": [
       "<Figure size 576x396 with 1 Axes>"
      ]
     },
     "metadata": {},
     "output_type": "display_data"
    }
   ],
   "source": [
    "plt.style.use(\"seaborn\")\n",
    "plt.plot(hist.history['loss'],'g',label=\"Loss\")\n",
    "plt.plot(hist.history['val_loss'],'b',label=\"Val Loss\")\n",
    "plt.plot(hist.history['acc'],'r',label=\"Training Acc\")\n",
    "plt.plot(hist.history['val_acc'],'black',label=\"Val Acc\")\n",
    "plt.legend()\n",
    "plt.show()\n",
    "\n"
   ]
  },
  {
   "cell_type": "code",
   "execution_count": null,
   "metadata": {},
   "outputs": [],
   "source": []
  }
 ],
 "metadata": {
  "kernelspec": {
   "display_name": "Python 3",
   "language": "python",
   "name": "python3"
  },
  "language_info": {
   "codemirror_mode": {
    "name": "ipython",
    "version": 3
   },
   "file_extension": ".py",
   "mimetype": "text/x-python",
   "name": "python",
   "nbconvert_exporter": "python",
   "pygments_lexer": "ipython3",
   "version": "3.6.1"
  }
 },
 "nbformat": 4,
 "nbformat_minor": 2
}
